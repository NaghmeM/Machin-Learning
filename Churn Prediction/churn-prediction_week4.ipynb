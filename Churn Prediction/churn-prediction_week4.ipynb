{
 "cells": [
  {
   "cell_type": "code",
   "execution_count": 1,
   "id": "63a2483c",
   "metadata": {
    "_cell_guid": "b1076dfc-b9ad-4769-8c92-a6c4dae69d19",
    "_uuid": "8f2839f25d086af736a60e9eeb907d3b93b6e0e5",
    "execution": {
     "iopub.execute_input": "2024-01-01T12:21:39.754269Z",
     "iopub.status.busy": "2024-01-01T12:21:39.753262Z",
     "iopub.status.idle": "2024-01-01T12:21:40.224877Z",
     "shell.execute_reply": "2024-01-01T12:21:40.223600Z"
    },
    "papermill": {
     "duration": 0.486102,
     "end_time": "2024-01-01T12:21:40.227652",
     "exception": false,
     "start_time": "2024-01-01T12:21:39.741550",
     "status": "completed"
    },
    "tags": []
   },
   "outputs": [
    {
     "name": "stdout",
     "output_type": "stream",
     "text": [
      "/kaggle/input/telco-customer-churn/WA_Fn-UseC_-Telco-Customer-Churn.csv\n"
     ]
    }
   ],
   "source": [
    "# This Python 3 environment comes with many helpful analytics libraries installed\n",
    "# It is defined by the kaggle/python Docker image: https://github.com/kaggle/docker-python\n",
    "# For example, here's several helpful packages to load\n",
    "\n",
    "import numpy as np # linear algebra\n",
    "import pandas as pd # data processing, CSV file I/O (e.g. pd.read_csv)\n",
    "\n",
    "# Input data files are available in the read-only \"../input/\" directory\n",
    "# For example, running this (by clicking run or pressing Shift+Enter) will list all files under the input directory\n",
    "\n",
    "import os\n",
    "for dirname, _, filenames in os.walk('/kaggle/input'):\n",
    "    for filename in filenames:\n",
    "        print(os.path.join(dirname, filename))\n",
    "\n",
    "# You can write up to 20GB to the current directory (/kaggle/working/) that gets preserved as output when you create a version using \"Save & Run All\" \n",
    "# You can also write temporary files to /kaggle/temp/, but they won't be saved outside of the current session"
   ]
  },
  {
   "cell_type": "markdown",
   "id": "377d396d",
   "metadata": {
    "papermill": {
     "duration": 0.008437,
     "end_time": "2024-01-01T12:21:40.245449",
     "exception": false,
     "start_time": "2024-01-01T12:21:40.237012",
     "status": "completed"
    },
    "tags": []
   },
   "source": [
    "**Data preparation**"
   ]
  },
  {
   "cell_type": "code",
   "execution_count": 2,
   "id": "417b9cf2",
   "metadata": {
    "execution": {
     "iopub.execute_input": "2024-01-01T12:21:40.264325Z",
     "iopub.status.busy": "2024-01-01T12:21:40.263558Z",
     "iopub.status.idle": "2024-01-01T12:21:42.200165Z",
     "shell.execute_reply": "2024-01-01T12:21:42.199122Z"
    },
    "papermill": {
     "duration": 1.94939,
     "end_time": "2024-01-01T12:21:42.202915",
     "exception": false,
     "start_time": "2024-01-01T12:21:40.253525",
     "status": "completed"
    },
    "tags": []
   },
   "outputs": [],
   "source": [
    "import pandas as pd\n",
    "import numpy as np\n",
    "import  seaborn as sns\n",
    "import matplotlib.pyplot as plt\n",
    "from sklearn.model_selection import train_test_split\n",
    "from sklearn.feature_extraction import DictVectorizer\n",
    "from sklearn.model_selection import GridSearchCV\n",
    "from sklearn.linear_model import LogisticRegression\n",
    "from sklearn.svm import SVC\n",
    "from sklearn.tree import DecisionTreeClassifier\n",
    "from sklearn.neighbors import KNeighborsClassifier\n",
    "from sklearn.model_selection import KFold\n",
    "from tqdm.auto import tqdm\n",
    "from sklearn.metrics import confusion_matrix\n",
    "from sklearn.metrics import roc_curve\n",
    "from sklearn.metrics import auc\n",
    "from sklearn.metrics import roc_auc_score"
   ]
  },
  {
   "cell_type": "code",
   "execution_count": 3,
   "id": "becef209",
   "metadata": {
    "execution": {
     "iopub.execute_input": "2024-01-01T12:21:42.221326Z",
     "iopub.status.busy": "2024-01-01T12:21:42.220931Z",
     "iopub.status.idle": "2024-01-01T12:21:42.297231Z",
     "shell.execute_reply": "2024-01-01T12:21:42.296121Z"
    },
    "papermill": {
     "duration": 0.08915,
     "end_time": "2024-01-01T12:21:42.300563",
     "exception": false,
     "start_time": "2024-01-01T12:21:42.211413",
     "status": "completed"
    },
    "tags": []
   },
   "outputs": [],
   "source": [
    "df = pd.read_csv('/kaggle/input/telco-customer-churn/WA_Fn-UseC_-Telco-Customer-Churn.csv')"
   ]
  },
  {
   "cell_type": "code",
   "execution_count": 4,
   "id": "b5b3e7a1",
   "metadata": {
    "execution": {
     "iopub.execute_input": "2024-01-01T12:21:42.326422Z",
     "iopub.status.busy": "2024-01-01T12:21:42.325324Z",
     "iopub.status.idle": "2024-01-01T12:21:42.504546Z",
     "shell.execute_reply": "2024-01-01T12:21:42.503352Z"
    },
    "papermill": {
     "duration": 0.195319,
     "end_time": "2024-01-01T12:21:42.507331",
     "exception": false,
     "start_time": "2024-01-01T12:21:42.312012",
     "status": "completed"
    },
    "tags": []
   },
   "outputs": [],
   "source": [
    "df.columns = df.columns.str.lower().str.replace(' ', '_')\n",
    "\n",
    "categorical_columns = list(df.dtypes[df.dtypes == 'object'].index)\n",
    "\n",
    "for c in categorical_columns:\n",
    "    df[c] = df[c].str.lower().str.replace(' ', '_')\n",
    "\n",
    "df.totalcharges = pd.to_numeric(df.totalcharges, errors='coerce')\n",
    "df.totalcharges = df.totalcharges.fillna(0)\n",
    "\n",
    "df.churn = (df.churn == 'yes').astype(int)"
   ]
  },
  {
   "cell_type": "code",
   "execution_count": 5,
   "id": "62721ee0",
   "metadata": {
    "execution": {
     "iopub.execute_input": "2024-01-01T12:21:42.526113Z",
     "iopub.status.busy": "2024-01-01T12:21:42.525063Z",
     "iopub.status.idle": "2024-01-01T12:21:42.572132Z",
     "shell.execute_reply": "2024-01-01T12:21:42.570714Z"
    },
    "papermill": {
     "duration": 0.06001,
     "end_time": "2024-01-01T12:21:42.575472",
     "exception": false,
     "start_time": "2024-01-01T12:21:42.515462",
     "status": "completed"
    },
    "tags": []
   },
   "outputs": [],
   "source": [
    "df_full_train, df_test = train_test_split(df, test_size=0.2, random_state=1)\n",
    "df_train, df_val = train_test_split(df_full_train, test_size=0.25, random_state=1)\n",
    "\n",
    "df_train = df_train.reset_index(drop=True)\n",
    "df_val = df_val.reset_index(drop=True)\n",
    "df_test = df_test.reset_index(drop=True)\n",
    "\n",
    "y_train = df_train.churn.values\n",
    "y_val = df_val.churn.values\n",
    "y_test = df_test.churn.values\n",
    "\n",
    "del df_train['churn']\n",
    "del df_val['churn']\n",
    "del df_test['churn']"
   ]
  },
  {
   "cell_type": "code",
   "execution_count": 6,
   "id": "6a8eb058",
   "metadata": {
    "execution": {
     "iopub.execute_input": "2024-01-01T12:21:42.595122Z",
     "iopub.status.busy": "2024-01-01T12:21:42.594674Z",
     "iopub.status.idle": "2024-01-01T12:21:42.601425Z",
     "shell.execute_reply": "2024-01-01T12:21:42.600120Z"
    },
    "papermill": {
     "duration": 0.020194,
     "end_time": "2024-01-01T12:21:42.604428",
     "exception": false,
     "start_time": "2024-01-01T12:21:42.584234",
     "status": "completed"
    },
    "tags": []
   },
   "outputs": [],
   "source": [
    "numerical = ['tenure', 'monthlycharges', 'totalcharges']\n",
    "\n",
    "categorical = [\n",
    "    'gender',\n",
    "    'seniorcitizen',\n",
    "    'partner',\n",
    "    'dependents',\n",
    "    'phoneservice',\n",
    "    'multiplelines',\n",
    "    'internetservice',\n",
    "    'onlinesecurity',\n",
    "    'onlinebackup',\n",
    "    'deviceprotection',\n",
    "    'techsupport',\n",
    "    'streamingtv',\n",
    "    'streamingmovies',\n",
    "    'contract',\n",
    "    'paperlessbilling',\n",
    "    'paymentmethod',\n",
    "]"
   ]
  },
  {
   "cell_type": "code",
   "execution_count": 7,
   "id": "117f72df",
   "metadata": {
    "execution": {
     "iopub.execute_input": "2024-01-01T12:21:42.623603Z",
     "iopub.status.busy": "2024-01-01T12:21:42.623185Z",
     "iopub.status.idle": "2024-01-01T12:21:42.914452Z",
     "shell.execute_reply": "2024-01-01T12:21:42.913199Z"
    },
    "papermill": {
     "duration": 0.304277,
     "end_time": "2024-01-01T12:21:42.917303",
     "exception": false,
     "start_time": "2024-01-01T12:21:42.613026",
     "status": "completed"
    },
    "tags": []
   },
   "outputs": [],
   "source": [
    "dv = DictVectorizer(sparse=False)\n",
    "\n",
    "train_dict = df_train[categorical + numerical].to_dict(orient='records')\n",
    "X_train = dv.fit_transform(train_dict)"
   ]
  },
  {
   "cell_type": "markdown",
   "id": "eec63942",
   "metadata": {
    "papermill": {
     "duration": 0.007735,
     "end_time": "2024-01-01T12:21:42.933183",
     "exception": false,
     "start_time": "2024-01-01T12:21:42.925448",
     "status": "completed"
    },
    "tags": []
   },
   "source": [
    "Logistic Regression"
   ]
  },
  {
   "cell_type": "code",
   "execution_count": 8,
   "id": "ce7b633a",
   "metadata": {
    "execution": {
     "iopub.execute_input": "2024-01-01T12:21:42.952543Z",
     "iopub.status.busy": "2024-01-01T12:21:42.952136Z",
     "iopub.status.idle": "2024-01-01T12:21:43.088746Z",
     "shell.execute_reply": "2024-01-01T12:21:43.087325Z"
    },
    "papermill": {
     "duration": 0.150502,
     "end_time": "2024-01-01T12:21:43.092603",
     "exception": false,
     "start_time": "2024-01-01T12:21:42.942101",
     "status": "completed"
    },
    "tags": []
   },
   "outputs": [
    {
     "data": {
      "text/html": [
       "<style>#sk-container-id-1 {color: black;background-color: white;}#sk-container-id-1 pre{padding: 0;}#sk-container-id-1 div.sk-toggleable {background-color: white;}#sk-container-id-1 label.sk-toggleable__label {cursor: pointer;display: block;width: 100%;margin-bottom: 0;padding: 0.3em;box-sizing: border-box;text-align: center;}#sk-container-id-1 label.sk-toggleable__label-arrow:before {content: \"▸\";float: left;margin-right: 0.25em;color: #696969;}#sk-container-id-1 label.sk-toggleable__label-arrow:hover:before {color: black;}#sk-container-id-1 div.sk-estimator:hover label.sk-toggleable__label-arrow:before {color: black;}#sk-container-id-1 div.sk-toggleable__content {max-height: 0;max-width: 0;overflow: hidden;text-align: left;background-color: #f0f8ff;}#sk-container-id-1 div.sk-toggleable__content pre {margin: 0.2em;color: black;border-radius: 0.25em;background-color: #f0f8ff;}#sk-container-id-1 input.sk-toggleable__control:checked~div.sk-toggleable__content {max-height: 200px;max-width: 100%;overflow: auto;}#sk-container-id-1 input.sk-toggleable__control:checked~label.sk-toggleable__label-arrow:before {content: \"▾\";}#sk-container-id-1 div.sk-estimator input.sk-toggleable__control:checked~label.sk-toggleable__label {background-color: #d4ebff;}#sk-container-id-1 div.sk-label input.sk-toggleable__control:checked~label.sk-toggleable__label {background-color: #d4ebff;}#sk-container-id-1 input.sk-hidden--visually {border: 0;clip: rect(1px 1px 1px 1px);clip: rect(1px, 1px, 1px, 1px);height: 1px;margin: -1px;overflow: hidden;padding: 0;position: absolute;width: 1px;}#sk-container-id-1 div.sk-estimator {font-family: monospace;background-color: #f0f8ff;border: 1px dotted black;border-radius: 0.25em;box-sizing: border-box;margin-bottom: 0.5em;}#sk-container-id-1 div.sk-estimator:hover {background-color: #d4ebff;}#sk-container-id-1 div.sk-parallel-item::after {content: \"\";width: 100%;border-bottom: 1px solid gray;flex-grow: 1;}#sk-container-id-1 div.sk-label:hover label.sk-toggleable__label {background-color: #d4ebff;}#sk-container-id-1 div.sk-serial::before {content: \"\";position: absolute;border-left: 1px solid gray;box-sizing: border-box;top: 0;bottom: 0;left: 50%;z-index: 0;}#sk-container-id-1 div.sk-serial {display: flex;flex-direction: column;align-items: center;background-color: white;padding-right: 0.2em;padding-left: 0.2em;position: relative;}#sk-container-id-1 div.sk-item {position: relative;z-index: 1;}#sk-container-id-1 div.sk-parallel {display: flex;align-items: stretch;justify-content: center;background-color: white;position: relative;}#sk-container-id-1 div.sk-item::before, #sk-container-id-1 div.sk-parallel-item::before {content: \"\";position: absolute;border-left: 1px solid gray;box-sizing: border-box;top: 0;bottom: 0;left: 50%;z-index: -1;}#sk-container-id-1 div.sk-parallel-item {display: flex;flex-direction: column;z-index: 1;position: relative;background-color: white;}#sk-container-id-1 div.sk-parallel-item:first-child::after {align-self: flex-end;width: 50%;}#sk-container-id-1 div.sk-parallel-item:last-child::after {align-self: flex-start;width: 50%;}#sk-container-id-1 div.sk-parallel-item:only-child::after {width: 0;}#sk-container-id-1 div.sk-dashed-wrapped {border: 1px dashed gray;margin: 0 0.4em 0.5em 0.4em;box-sizing: border-box;padding-bottom: 0.4em;background-color: white;}#sk-container-id-1 div.sk-label label {font-family: monospace;font-weight: bold;display: inline-block;line-height: 1.2em;}#sk-container-id-1 div.sk-label-container {text-align: center;}#sk-container-id-1 div.sk-container {/* jupyter's `normalize.less` sets `[hidden] { display: none; }` but bootstrap.min.css set `[hidden] { display: none !important; }` so we also need the `!important` here to be able to override the default hidden behavior on the sphinx rendered scikit-learn.org. See: https://github.com/scikit-learn/scikit-learn/issues/21755 */display: inline-block !important;position: relative;}#sk-container-id-1 div.sk-text-repr-fallback {display: none;}</style><div id=\"sk-container-id-1\" class=\"sk-top-container\"><div class=\"sk-text-repr-fallback\"><pre>LogisticRegression()</pre><b>In a Jupyter environment, please rerun this cell to show the HTML representation or trust the notebook. <br />On GitHub, the HTML representation is unable to render, please try loading this page with nbviewer.org.</b></div><div class=\"sk-container\" hidden><div class=\"sk-item\"><div class=\"sk-estimator sk-toggleable\"><input class=\"sk-toggleable__control sk-hidden--visually\" id=\"sk-estimator-id-1\" type=\"checkbox\" checked><label for=\"sk-estimator-id-1\" class=\"sk-toggleable__label sk-toggleable__label-arrow\">LogisticRegression</label><div class=\"sk-toggleable__content\"><pre>LogisticRegression()</pre></div></div></div></div></div>"
      ],
      "text/plain": [
       "LogisticRegression()"
      ]
     },
     "execution_count": 8,
     "metadata": {},
     "output_type": "execute_result"
    }
   ],
   "source": [
    "lr = LogisticRegression()\n",
    "lr.fit(X_train, y_train)"
   ]
  },
  {
   "cell_type": "code",
   "execution_count": 9,
   "id": "be4a68b0",
   "metadata": {
    "execution": {
     "iopub.execute_input": "2024-01-01T12:21:43.130703Z",
     "iopub.status.busy": "2024-01-01T12:21:43.130014Z",
     "iopub.status.idle": "2024-01-01T12:21:43.266243Z",
     "shell.execute_reply": "2024-01-01T12:21:43.264643Z"
    },
    "papermill": {
     "duration": 0.160197,
     "end_time": "2024-01-01T12:21:43.270471",
     "exception": false,
     "start_time": "2024-01-01T12:21:43.110274",
     "status": "completed"
    },
    "tags": []
   },
   "outputs": [
    {
     "data": {
      "text/plain": [
       "0.8034066713981547"
      ]
     },
     "execution_count": 9,
     "metadata": {},
     "output_type": "execute_result"
    }
   ],
   "source": [
    "val_dict = df_val[categorical + numerical].to_dict(orient='records')\n",
    "X_val = dv.transform(val_dict)\n",
    "\n",
    "y_pred = lr.predict_proba(X_val)[:, 1]\n",
    "churn_decision = (y_pred >= 0.5)\n",
    "(y_val == churn_decision).mean()"
   ]
  },
  {
   "cell_type": "code",
   "execution_count": 10,
   "id": "de1e7ba5",
   "metadata": {
    "execution": {
     "iopub.execute_input": "2024-01-01T12:21:43.309673Z",
     "iopub.status.busy": "2024-01-01T12:21:43.308890Z",
     "iopub.status.idle": "2024-01-01T12:21:43.321216Z",
     "shell.execute_reply": "2024-01-01T12:21:43.319661Z"
    },
    "papermill": {
     "duration": 0.037118,
     "end_time": "2024-01-01T12:21:43.325404",
     "exception": false,
     "start_time": "2024-01-01T12:21:43.288286",
     "status": "completed"
    },
    "tags": []
   },
   "outputs": [],
   "source": [
    "def plot_confusion_matrix(y,y_pred,labels=None):\n",
    "    cm = confusion_matrix(y, y_pred, labels=labels)\n",
    "    ax= plt.subplot()\n",
    "    sns.heatmap(cm, annot=True, ax = ax ,fmt='.3g'); #annot=True to annotate cells\n",
    "    ax.set_xlabel('Predicted labels')\n",
    "    ax.set_ylabel('True labels')\n",
    "    ax.set_title('Confusion Matrix');\n",
    "    ax.xaxis.set_ticklabels(['not churn', 'churn']); ax.yaxis.set_ticklabels(['not churn', 'churn'])"
   ]
  },
  {
   "cell_type": "code",
   "execution_count": 11,
   "id": "579ea3e4",
   "metadata": {
    "execution": {
     "iopub.execute_input": "2024-01-01T12:21:43.364651Z",
     "iopub.status.busy": "2024-01-01T12:21:43.363872Z",
     "iopub.status.idle": "2024-01-01T12:21:43.371589Z",
     "shell.execute_reply": "2024-01-01T12:21:43.370005Z"
    },
    "papermill": {
     "duration": 0.032681,
     "end_time": "2024-01-01T12:21:43.375861",
     "exception": false,
     "start_time": "2024-01-01T12:21:43.343180",
     "status": "completed"
    },
    "tags": []
   },
   "outputs": [],
   "source": [
    "accu=[]\n",
    "methods=[]"
   ]
  },
  {
   "cell_type": "code",
   "execution_count": 12,
   "id": "72b53ff6",
   "metadata": {
    "execution": {
     "iopub.execute_input": "2024-01-01T12:21:43.396315Z",
     "iopub.status.busy": "2024-01-01T12:21:43.395890Z",
     "iopub.status.idle": "2024-01-01T12:21:43.412282Z",
     "shell.execute_reply": "2024-01-01T12:21:43.410750Z"
    },
    "papermill": {
     "duration": 0.030561,
     "end_time": "2024-01-01T12:21:43.416760",
     "exception": false,
     "start_time": "2024-01-01T12:21:43.386199",
     "status": "completed"
    },
    "tags": []
   },
   "outputs": [
    {
     "data": {
      "text/plain": [
       "0.8034066713981547"
      ]
     },
     "execution_count": 12,
     "metadata": {},
     "output_type": "execute_result"
    }
   ],
   "source": [
    "accu.append(lr.score(X_val,y_val))\n",
    "methods.append('logistic regression')\n",
    "lr.score(X_val,y_val)"
   ]
  },
  {
   "cell_type": "code",
   "execution_count": 13,
   "id": "b18904eb",
   "metadata": {
    "execution": {
     "iopub.execute_input": "2024-01-01T12:21:43.457112Z",
     "iopub.status.busy": "2024-01-01T12:21:43.456213Z",
     "iopub.status.idle": "2024-01-01T12:21:43.916461Z",
     "shell.execute_reply": "2024-01-01T12:21:43.915384Z"
    },
    "papermill": {
     "duration": 0.483221,
     "end_time": "2024-01-01T12:21:43.919069",
     "exception": false,
     "start_time": "2024-01-01T12:21:43.435848",
     "status": "completed"
    },
    "tags": []
   },
   "outputs": [
    {
     "data": {
      "image/png": "[encoded data removed]",
      "text/plain": [
       "<Figure size 640x480 with 2 Axes>"
      ]
     },
     "metadata": {},
     "output_type": "display_data"
    }
   ],
   "source": [
    "yhat=lr.predict(X_val)\n",
    "plot_confusion_matrix(y_val,yhat)"
   ]
  },
  {
   "cell_type": "code",
   "execution_count": 14,
   "id": "34aa0bdd",
   "metadata": {
    "execution": {
     "iopub.execute_input": "2024-01-01T12:21:43.939160Z",
     "iopub.status.busy": "2024-01-01T12:21:43.938744Z",
     "iopub.status.idle": "2024-01-01T12:21:45.373076Z",
     "shell.execute_reply": "2024-01-01T12:21:45.371882Z"
    },
    "papermill": {
     "duration": 1.447807,
     "end_time": "2024-01-01T12:21:45.375934",
     "exception": false,
     "start_time": "2024-01-01T12:21:43.928127",
     "status": "completed"
    },
    "tags": []
   },
   "outputs": [
    {
     "data": {
      "text/plain": [
       "0.7260468417317246"
      ]
     },
     "execution_count": 14,
     "metadata": {},
     "output_type": "execute_result"
    }
   ],
   "source": [
    "svm = SVC()\n",
    "svm.fit(X_train, y_train)\n",
    "accu.append(svm.score(X_val,y_val))\n",
    "methods.append('support vector machine')\n",
    "svm.score(X_val,y_val)"
   ]
  },
  {
   "cell_type": "code",
   "execution_count": 15,
   "id": "c12ba190",
   "metadata": {
    "execution": {
     "iopub.execute_input": "2024-01-01T12:21:45.398067Z",
     "iopub.status.busy": "2024-01-01T12:21:45.397599Z",
     "iopub.status.idle": "2024-01-01T12:21:45.444859Z",
     "shell.execute_reply": "2024-01-01T12:21:45.443635Z"
    },
    "papermill": {
     "duration": 0.0616,
     "end_time": "2024-01-01T12:21:45.447703",
     "exception": false,
     "start_time": "2024-01-01T12:21:45.386103",
     "status": "completed"
    },
    "tags": []
   },
   "outputs": [
    {
     "data": {
      "text/plain": [
       "0.7154009936124911"
      ]
     },
     "execution_count": 15,
     "metadata": {},
     "output_type": "execute_result"
    }
   ],
   "source": [
    "tree = DecisionTreeClassifier()\n",
    "tree.fit(X_train,y_train)\n",
    "accu.append(tree.score(X_val,y_val))\n",
    "methods.append('decision tree')\n",
    "tree.score(X_val,y_val)"
   ]
  },
  {
   "cell_type": "code",
   "execution_count": 16,
   "id": "01be7c05",
   "metadata": {
    "execution": {
     "iopub.execute_input": "2024-01-01T12:21:45.468527Z",
     "iopub.status.busy": "2024-01-01T12:21:45.468129Z",
     "iopub.status.idle": "2024-01-01T12:21:45.793241Z",
     "shell.execute_reply": "2024-01-01T12:21:45.790919Z"
    },
    "papermill": {
     "duration": 0.339294,
     "end_time": "2024-01-01T12:21:45.796499",
     "exception": false,
     "start_time": "2024-01-01T12:21:45.457205",
     "status": "completed"
    },
    "tags": []
   },
   "outputs": [
    {
     "data": {
      "text/plain": [
       "0.7743080198722498"
      ]
     },
     "execution_count": 16,
     "metadata": {},
     "output_type": "execute_result"
    }
   ],
   "source": [
    "KNN = KNeighborsClassifier()\n",
    "KNN.fit(X_train, y_train)\n",
    "accu.append(KNN.score(X_val,y_val))\n",
    "methods.append('k nearest neighbors')\n",
    "KNN.score(X_val,y_val)"
   ]
  },
  {
   "cell_type": "code",
   "execution_count": 17,
   "id": "c4f3246e",
   "metadata": {
    "execution": {
     "iopub.execute_input": "2024-01-01T12:21:45.818488Z",
     "iopub.status.busy": "2024-01-01T12:21:45.817886Z",
     "iopub.status.idle": "2024-01-01T12:21:45.826629Z",
     "shell.execute_reply": "2024-01-01T12:21:45.825364Z"
    },
    "papermill": {
     "duration": 0.023946,
     "end_time": "2024-01-01T12:21:45.830308",
     "exception": false,
     "start_time": "2024-01-01T12:21:45.806362",
     "status": "completed"
    },
    "tags": []
   },
   "outputs": [],
   "source": [
    "def train(df_train, y_train, C=1.0):\n",
    "    dicts = df_train[categorical + numerical].to_dict(orient='records')\n",
    "\n",
    "    dv = DictVectorizer(sparse=False)\n",
    "    X_train = dv.fit_transform(dicts)\n",
    "\n",
    "    model = LogisticRegression(C=C, max_iter=1000)\n",
    "    model.fit(X_train, y_train)\n",
    "    \n",
    "    return dv, model"
   ]
  },
  {
   "cell_type": "code",
   "execution_count": 18,
   "id": "2240266b",
   "metadata": {
    "execution": {
     "iopub.execute_input": "2024-01-01T12:21:45.860647Z",
     "iopub.status.busy": "2024-01-01T12:21:45.859865Z",
     "iopub.status.idle": "2024-01-01T12:21:45.868054Z",
     "shell.execute_reply": "2024-01-01T12:21:45.866751Z"
    },
    "papermill": {
     "duration": 0.028841,
     "end_time": "2024-01-01T12:21:45.872127",
     "exception": false,
     "start_time": "2024-01-01T12:21:45.843286",
     "status": "completed"
    },
    "tags": []
   },
   "outputs": [],
   "source": [
    "def predict(df, dv, model):\n",
    "    dicts = df[categorical + numerical].to_dict(orient='records')\n",
    "\n",
    "    X = dv.transform(dicts)\n",
    "    y_pred = model.predict_proba(X)[:, 1]\n",
    "\n",
    "    return y_pred"
   ]
  },
  {
   "cell_type": "code",
   "execution_count": 19,
   "id": "1a81eb55",
   "metadata": {
    "execution": {
     "iopub.execute_input": "2024-01-01T12:21:45.907025Z",
     "iopub.status.busy": "2024-01-01T12:21:45.906422Z",
     "iopub.status.idle": "2024-01-01T12:22:10.188524Z",
     "shell.execute_reply": "2024-01-01T12:22:10.186982Z"
    },
    "papermill": {
     "duration": 24.305285,
     "end_time": "2024-01-01T12:22:10.193720",
     "exception": false,
     "start_time": "2024-01-01T12:21:45.888435",
     "status": "completed"
    },
    "tags": []
   },
   "outputs": [
    {
     "data": {
      "application/vnd.jupyter.widget-view+json": {
       "model_id": "177fb698cd3c445094d4abe3a0f139ad",
       "version_major": 2,
       "version_minor": 0
      },
      "text/plain": [
       "  0%|          | 0/7 [00:00<?, ?it/s]"
      ]
     },
     "metadata": {},
     "output_type": "display_data"
    },
    {
     "name": "stdout",
     "output_type": "stream",
     "text": [
      "C=0.001 0.825 +- 0.009\n",
      "C=0.01 0.840 +- 0.009\n",
      "C=0.1 0.841 +- 0.008\n",
      "C=0.5 0.840 +- 0.007\n",
      "C=1 0.840 +- 0.009\n",
      "C=5 0.841 +- 0.008\n",
      "C=10 0.841 +- 0.008\n"
     ]
    }
   ],
   "source": [
    "n_splits = 5\n",
    "\n",
    "for C in tqdm([0.001, 0.01, 0.1, 0.5, 1, 5, 10]):\n",
    "    kfold = KFold(n_splits=n_splits, shuffle=True, random_state=1)\n",
    "\n",
    "    scores = []\n",
    "\n",
    "    for train_idx, val_idx in kfold.split(df_full_train):\n",
    "        df_train = df_full_train.iloc[train_idx]\n",
    "        df_val = df_full_train.iloc[val_idx]\n",
    "\n",
    "        y_train = df_train.churn.values\n",
    "        y_val = df_val.churn.values\n",
    "\n",
    "        dv, model = train(df_train, y_train, C=C)\n",
    "        y_pred = predict(df_val, dv, model)\n",
    "\n",
    "        auc = roc_auc_score(y_val, y_pred)\n",
    "        scores.append(auc)\n",
    "\n",
    "    print('C=%s %.3f +- %.3f' % (C, np.mean(scores), np.std(scores)))"
   ]
  },
  {
   "cell_type": "code",
   "execution_count": 20,
   "id": "34126047",
   "metadata": {
    "execution": {
     "iopub.execute_input": "2024-01-01T12:22:10.242652Z",
     "iopub.status.busy": "2024-01-01T12:22:10.241896Z",
     "iopub.status.idle": "2024-01-01T12:22:10.252770Z",
     "shell.execute_reply": "2024-01-01T12:22:10.251180Z"
    },
    "papermill": {
     "duration": 0.041174,
     "end_time": "2024-01-01T12:22:10.257878",
     "exception": false,
     "start_time": "2024-01-01T12:22:10.216704",
     "status": "completed"
    },
    "tags": []
   },
   "outputs": [
    {
     "data": {
      "text/plain": [
       "[0.8419433083969825,\n",
       " 0.8458378857105019,\n",
       " 0.8333453742725266,\n",
       " 0.8324706625311761,\n",
       " 0.8522559693765492]"
      ]
     },
     "execution_count": 20,
     "metadata": {},
     "output_type": "execute_result"
    }
   ],
   "source": [
    "scores"
   ]
  },
  {
   "cell_type": "code",
   "execution_count": 21,
   "id": "ec9ca970",
   "metadata": {
    "execution": {
     "iopub.execute_input": "2024-01-01T12:22:10.300088Z",
     "iopub.status.busy": "2024-01-01T12:22:10.299604Z",
     "iopub.status.idle": "2024-01-01T12:22:10.918591Z",
     "shell.execute_reply": "2024-01-01T12:22:10.916971Z"
    },
    "papermill": {
     "duration": 0.642161,
     "end_time": "2024-01-01T12:22:10.923136",
     "exception": false,
     "start_time": "2024-01-01T12:22:10.280975",
     "status": "completed"
    },
    "tags": []
   },
   "outputs": [
    {
     "data": {
      "text/plain": [
       "0.8572386167896259"
      ]
     },
     "execution_count": 21,
     "metadata": {},
     "output_type": "execute_result"
    }
   ],
   "source": [
    "dv, model = train(df_full_train, df_full_train.churn.values, C=1.0)\n",
    "y_pred = predict(df_test, dv, model)\n",
    "\n",
    "auc = roc_auc_score(y_test, y_pred)\n",
    "auc"
   ]
  }
 ],
 "metadata": {
  "kaggle": {
   "accelerator": "none",
   "dataSources": [
    {
     "datasetId": 13996,
     "sourceId": 18858,
     "sourceType": "datasetVersion"
    }
   ],
   "dockerImageVersionId": 30626,
   "isGpuEnabled": false,
   "isInternetEnabled": true,
   "language": "python",
   "sourceType": "notebook"
  },
  "kernelspec": {
   "display_name": "Python 3",
   "language": "python",
   "name": "python3"
  },
  "language_info": {
   "codemirror_mode": {
    "name": "ipython",
    "version": 3
   },
   "file_extension": ".py",
   "mimetype": "text/x-python",
   "name": "python",
   "nbconvert_exporter": "python",
   "pygments_lexer": "ipython3",
   "version": "3.10.12"
  },
  "papermill": {
   "default_parameters": {},
   "duration": 35.533268,
   "end_time": "2024-01-01T12:22:11.681819",
   "environment_variables": {},
   "exception": null,
   "input_path": "__notebook__.ipynb",
   "output_path": "__notebook__.ipynb",
   "parameters": {},
   "start_time": "2024-01-01T12:21:36.148551",
   "version": "2.4.0"
  },
  "widgets": {
   "application/vnd.jupyter.widget-state+json": {
    "state": {
     "147378a8a79848d392c9c4921ec0b6a7": {
      "model_module": "@jupyter-widgets/controls",
      "model_module_version": "1.5.0",
      "model_name": "DescriptionStyleModel",
      "state": {
       "_model_module": "@jupyter-widgets/controls",
       "_model_module_version": "1.5.0",
       "_model_name": "DescriptionStyleModel",
       "_view_count": null,
       "_view_module": "@jupyter-widgets/base",
       "_view_module_version": "1.2.0",
       "_view_name": "StyleView",
       "description_width": ""
      }
     },
     "177fb698cd3c445094d4abe3a0f139ad": {
      "model_module": "@jupyter-widgets/controls",
      "model_module_version": "1.5.0",
      "model_name": "HBoxModel",
      "state": {
       "_dom_classes": [],
       "_model_module": "@jupyter-widgets/controls",
       "_model_module_version": "1.5.0",
       "_model_name": "HBoxModel",
       "_view_count": null,
       "_view_module": "@jupyter-widgets/controls",
       "_view_module_version": "1.5.0",
       "_view_name": "HBoxView",
       "box_style": "",
       "children": [
        "IPY_MODEL_cd829dd534e94ae69d417ae4394aa9f2",
        "IPY_MODEL_554fc8083d354f6c9c1c449988cba2fb",
        "IPY_MODEL_acaf377912ba441cb700c100ee3b06f9"
       ],
       "layout": "IPY_MODEL_ed07d71a594442f0be0de023111995a3"
      }
     },
     "1f78bf605a0f45d59320d6a4f2a4f8df": {
      "model_module": "@jupyter-widgets/controls",
      "model_module_version": "1.5.0",
      "model_name": "ProgressStyleModel",
      "state": {
       "_model_module": "@jupyter-widgets/controls",
       "_model_module_version": "1.5.0",
       "_model_name": "ProgressStyleModel",
       "_view_count": null,
       "_view_module": "@jupyter-widgets/base",
       "_view_module_version": "1.2.0",
       "_view_name": "StyleView",
       "bar_color": null,
       "description_width": ""
      }
     },
     "503997ec0ab240f7ac1e0fbd64910d99": {
      "model_module": "@jupyter-widgets/base",
      "model_module_version": "1.2.0",
      "model_name": "LayoutModel",
      "state": {
       "_model_module": "@jupyter-widgets/base",
       "_model_module_version": "1.2.0",
       "_model_name": "LayoutModel",
       "_view_count": null,
       "_view_module": "@jupyter-widgets/base",
       "_view_module_version": "1.2.0",
       "_view_name": "LayoutView",
       "align_content": null,
       "align_items": null,
       "align_self": null,
       "border": null,
       "bottom": null,
       "display": null,
       "flex": null,
       "flex_flow": null,
       "grid_area": null,
       "grid_auto_columns": null,
       "grid_auto_flow": null,
       "grid_auto_rows": null,
       "grid_column": null,
       "grid_gap": null,
       "grid_row": null,
       "grid_template_areas": null,
       "grid_template_columns": null,
       "grid_template_rows": null,
       "height": null,
       "justify_content": null,
       "justify_items": null,
       "left": null,
       "margin": null,
       "max_height": null,
       "max_width": null,
       "min_height": null,
       "min_width": null,
       "object_fit": null,
       "object_position": null,
       "order": null,
       "overflow": null,
       "overflow_x": null,
       "overflow_y": null,
       "padding": null,
       "right": null,
       "top": null,
       "visibility": null,
       "width": null
      }
     },
     "554fc8083d354f6c9c1c449988cba2fb": {
      "model_module": "@jupyter-widgets/controls",
      "model_module_version": "1.5.0",
      "model_name": "FloatProgressModel",
      "state": {
       "_dom_classes": [],
       "_model_module": "@jupyter-widgets/controls",
       "_model_module_version": "1.5.0",
       "_model_name": "FloatProgressModel",
       "_view_count": null,
       "_view_module": "@jupyter-widgets/controls",
       "_view_module_version": "1.5.0",
       "_view_name": "ProgressView",
       "bar_style": "success",
       "description": "",
       "description_tooltip": null,
       "layout": "IPY_MODEL_b31bc5806b034cd7802d129974c3b64b",
       "max": 7.0,
       "min": 0.0,
       "orientation": "horizontal",
       "style": "IPY_MODEL_1f78bf605a0f45d59320d6a4f2a4f8df",
       "value": 7.0
      }
     },
     "a54dba580b564ec8b4486336f618cafe": {
      "model_module": "@jupyter-widgets/base",
      "model_module_version": "1.2.0",
      "model_name": "LayoutModel",
      "state": {
       "_model_module": "@jupyter-widgets/base",
       "_model_module_version": "1.2.0",
       "_model_name": "LayoutModel",
       "_view_count": null,
       "_view_module": "@jupyter-widgets/base",
       "_view_module_version": "1.2.0",
       "_view_name": "LayoutView",
       "align_content": null,
       "align_items": null,
       "align_self": null,
       "border": null,
       "bottom": null,
       "display": null,
       "flex": null,
       "flex_flow": null,
       "grid_area": null,
       "grid_auto_columns": null,
       "grid_auto_flow": null,
       "grid_auto_rows": null,
       "grid_column": null,
       "grid_gap": null,
       "grid_row": null,
       "grid_template_areas": null,
       "grid_template_columns": null,
       "grid_template_rows": null,
       "height": null,
       "justify_content": null,
       "justify_items": null,
       "left": null,
       "margin": null,
       "max_height": null,
       "max_width": null,
       "min_height": null,
       "min_width": null,
       "object_fit": null,
       "object_position": null,
       "order": null,
       "overflow": null,
       "overflow_x": null,
       "overflow_y": null,
       "padding": null,
       "right": null,
       "top": null,
       "visibility": null,
       "width": null
      }
     },
     "acaf377912ba441cb700c100ee3b06f9": {
      "model_module": "@jupyter-widgets/controls",
      "model_module_version": "1.5.0",
      "model_name": "HTMLModel",
      "state": {
       "_dom_classes": [],
       "_model_module": "@jupyter-widgets/controls",
       "_model_module_version": "1.5.0",
       "_model_name": "HTMLModel",
       "_view_count": null,
       "_view_module": "@jupyter-widgets/controls",
       "_view_module_version": "1.5.0",
       "_view_name": "HTMLView",
       "description": "",
       "description_tooltip": null,
       "layout": "IPY_MODEL_a54dba580b564ec8b4486336f618cafe",
       "placeholder": "​",
       "style": "IPY_MODEL_147378a8a79848d392c9c4921ec0b6a7",
       "value": " 7/7 [00:24&lt;00:00,  3.51s/it]"
      }
     },
     "b31bc5806b034cd7802d129974c3b64b": {
      "model_module": "@jupyter-widgets/base",
      "model_module_version": "1.2.0",
      "model_name": "LayoutModel",
      "state": {
       "_model_module": "@jupyter-widgets/base",
       "_model_module_version": "1.2.0",
       "_model_name": "LayoutModel",
       "_view_count": null,
       "_view_module": "@jupyter-widgets/base",
       "_view_module_version": "1.2.0",
       "_view_name": "LayoutView",
       "align_content": null,
       "align_items": null,
       "align_self": null,
       "border": null,
       "bottom": null,
       "display": null,
       "flex": null,
       "flex_flow": null,
       "grid_area": null,
       "grid_auto_columns": null,
       "grid_auto_flow": null,
       "grid_auto_rows": null,
       "grid_column": null,
       "grid_gap": null,
       "grid_row": null,
       "grid_template_areas": null,
       "grid_template_columns": null,
       "grid_template_rows": null,
       "height": null,
       "justify_content": null,
       "justify_items": null,
       "left": null,
       "margin": null,
       "max_height": null,
       "max_width": null,
       "min_height": null,
       "min_width": null,
       "object_fit": null,
       "object_position": null,
       "order": null,
       "overflow": null,
       "overflow_x": null,
       "overflow_y": null,
       "padding": null,
       "right": null,
       "top": null,
       "visibility": null,
       "width": null
      }
     },
     "b5f766b9851f47b7b318445cd42ebb13": {
      "model_module": "@jupyter-widgets/controls",
      "model_module_version": "1.5.0",
      "model_name": "DescriptionStyleModel",
      "state": {
       "_model_module": "@jupyter-widgets/controls",
       "_model_module_version": "1.5.0",
       "_model_name": "DescriptionStyleModel",
       "_view_count": null,
       "_view_module": "@jupyter-widgets/base",
       "_view_module_version": "1.2.0",
       "_view_name": "StyleView",
       "description_width": ""
      }
     },
     "cd829dd534e94ae69d417ae4394aa9f2": {
      "model_module": "@jupyter-widgets/controls",
      "model_module_version": "1.5.0",
      "model_name": "HTMLModel",
      "state": {
       "_dom_classes": [],
       "_model_module": "@jupyter-widgets/controls",
       "_model_module_version": "1.5.0",
       "_model_name": "HTMLModel",
       "_view_count": null,
       "_view_module": "@jupyter-widgets/controls",
       "_view_module_version": "1.5.0",
       "_view_name": "HTMLView",
       "description": "",
       "description_tooltip": null,
       "layout": "IPY_MODEL_503997ec0ab240f7ac1e0fbd64910d99",
       "placeholder": "​",
       "style": "IPY_MODEL_b5f766b9851f47b7b318445cd42ebb13",
       "value": "100%"
      }
     },
     "ed07d71a594442f0be0de023111995a3": {
      "model_module": "@jupyter-widgets/base",
      "model_module_version": "1.2.0",
      "model_name": "LayoutModel",
      "state": {
       "_model_module": "@jupyter-widgets/base",
       "_model_module_version": "1.2.0",
       "_model_name": "LayoutModel",
       "_view_count": null,
       "_view_module": "@jupyter-widgets/base",
       "_view_module_version": "1.2.0",
       "_view_name": "LayoutView",
       "align_content": null,
       "align_items": null,
       "align_self": null,
       "border": null,
       "bottom": null,
       "display": null,
       "flex": null,
       "flex_flow": null,
       "grid_area": null,
       "grid_auto_columns": null,
       "grid_auto_flow": null,
       "grid_auto_rows": null,
       "grid_column": null,
       "grid_gap": null,
       "grid_row": null,
       "grid_template_areas": null,
       "grid_template_columns": null,
       "grid_template_rows": null,
       "height": null,
       "justify_content": null,
       "justify_items": null,
       "left": null,
       "margin": null,
       "max_height": null,
       "max_width": null,
       "min_height": null,
       "min_width": null,
       "object_fit": null,
       "object_position": null,
       "order": null,
       "overflow": null,
       "overflow_x": null,
       "overflow_y": null,
       "padding": null,
       "right": null,
       "top": null,
       "visibility": null,
       "width": null
      }
     }
    },
    "version_major": 2,
    "version_minor": 0
   }
  }
 },
 "nbformat": 4,
 "nbformat_minor": 5
}
